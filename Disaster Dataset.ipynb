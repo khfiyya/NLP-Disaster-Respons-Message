{
 "cells": [
  {
   "cell_type": "markdown",
   "id": "7e92c5a7",
   "metadata": {},
   "source": [
    "Khofiyya Mulia Rahmi"
   ]
  },
  {
   "cell_type": "markdown",
   "id": "fe52123e",
   "metadata": {},
   "source": [
    "# Introduction"
   ]
  },
  {
   "cell_type": "markdown",
   "id": "02038bf4",
   "metadata": {},
   "source": [
    "Pada kasus ini, saya akan menganalisa data Disaster Respon Massage dari tweet, yang dimana data ini berupa data text yang berisi respon-respon, dan kumpulan kalimat ini mempunyai labeling 1 jika terkait dengan bencana dan 0 jika tidak. \n",
    "\n",
    "\n",
    "Pada Kasus ini untuk bisa menghasilkan model yang melakukan tugas klasifikasi untuk memutuskan apakah tweet terkait dengan bencana atau tidak, dan dalam kasus ini terbagi menjadi 3 data tentang Disaster Respon Message , yang dimana untuk melakukan building model dengan dengan Data Disaster Respon message dan data Disaster Respon message validasi, dan untuk melihat model yang baik dengan Data Disaster Respon Testing. "
   ]
  },
  {
   "cell_type": "markdown",
   "id": "464380de",
   "metadata": {},
   "source": [
    "# Import Packages"
   ]
  },
  {
   "cell_type": "code",
   "execution_count": 1,
   "id": "24a8a6c3",
   "metadata": {},
   "outputs": [],
   "source": [
    "import numpy as np\n",
    "import pandas as pd\n",
    "import matplotlib.pyplot as plt\n",
    "import seaborn as sns\n",
    "plt.style.use('seaborn')"
   ]
  },
  {
   "cell_type": "code",
   "execution_count": 2,
   "id": "085b7e71",
   "metadata": {},
   "outputs": [
    {
     "name": "stderr",
     "output_type": "stream",
     "text": [
      "/Users/khofiyyamuliarahmi/opt/anaconda3/lib/python3.8/site-packages/IPython/core/interactiveshell.py:3165: DtypeWarning: Columns (3) have mixed types.Specify dtype option on import or set low_memory=False.\n",
      "  has_raised = await self.run_ast_nodes(code_ast.body, cell_name,\n"
     ]
    }
   ],
   "source": [
    "train = pd.read_csv('disaster_response_messages_training.csv')\n",
    "test = pd.read_csv('disaster_response_messages_test.csv')\n",
    "val = pd.read_csv('disaster_response_messages_validation.csv')"
   ]
  },
  {
   "cell_type": "markdown",
   "id": "57fc0835",
   "metadata": {},
   "source": [
    "# Data Loading"
   ]
  },
  {
   "cell_type": "markdown",
   "id": "b66f611c",
   "metadata": {},
   "source": [
    "Memanggil data yang dibutuhkan"
   ]
  },
  {
   "cell_type": "code",
   "execution_count": 3,
   "id": "57909139",
   "metadata": {},
   "outputs": [
    {
     "data": {
      "text/html": [
       "<div>\n",
       "<style scoped>\n",
       "    .dataframe tbody tr th:only-of-type {\n",
       "        vertical-align: middle;\n",
       "    }\n",
       "\n",
       "    .dataframe tbody tr th {\n",
       "        vertical-align: top;\n",
       "    }\n",
       "\n",
       "    .dataframe thead th {\n",
       "        text-align: right;\n",
       "    }\n",
       "</style>\n",
       "<table border=\"1\" class=\"dataframe\">\n",
       "  <thead>\n",
       "    <tr style=\"text-align: right;\">\n",
       "      <th></th>\n",
       "      <th>message</th>\n",
       "      <th>aid_related</th>\n",
       "    </tr>\n",
       "  </thead>\n",
       "  <tbody>\n",
       "    <tr>\n",
       "      <th>0</th>\n",
       "      <td>Weather update - a cold front from Cuba that c...</td>\n",
       "      <td>0</td>\n",
       "    </tr>\n",
       "    <tr>\n",
       "      <th>1</th>\n",
       "      <td>Is the Hurricane over or is it not over</td>\n",
       "      <td>1</td>\n",
       "    </tr>\n",
       "    <tr>\n",
       "      <th>2</th>\n",
       "      <td>says: west side of Haiti, rest of the country ...</td>\n",
       "      <td>0</td>\n",
       "    </tr>\n",
       "    <tr>\n",
       "      <th>3</th>\n",
       "      <td>Information about the National Palace-</td>\n",
       "      <td>0</td>\n",
       "    </tr>\n",
       "    <tr>\n",
       "      <th>4</th>\n",
       "      <td>Storm at sacred heart of jesus</td>\n",
       "      <td>0</td>\n",
       "    </tr>\n",
       "  </tbody>\n",
       "</table>\n",
       "</div>"
      ],
      "text/plain": [
       "                                             message  aid_related\n",
       "0  Weather update - a cold front from Cuba that c...            0\n",
       "1            Is the Hurricane over or is it not over            1\n",
       "2  says: west side of Haiti, rest of the country ...            0\n",
       "3             Information about the National Palace-            0\n",
       "4                     Storm at sacred heart of jesus            0"
      ]
     },
     "execution_count": 3,
     "metadata": {},
     "output_type": "execute_result"
    }
   ],
   "source": [
    "train_data = train[['message', 'aid_related']]\n",
    "test_data = test[['message','aid_related']]\n",
    "val_data = val [['message','aid_related']]\n",
    "train_data.head()"
   ]
  },
  {
   "cell_type": "code",
   "execution_count": 4,
   "id": "2b5fb356",
   "metadata": {},
   "outputs": [
    {
     "name": "stdout",
     "output_type": "stream",
     "text": [
      "<class 'pandas.core.frame.DataFrame'>\n",
      "RangeIndex: 21046 entries, 0 to 21045\n",
      "Data columns (total 2 columns):\n",
      " #   Column       Non-Null Count  Dtype \n",
      "---  ------       --------------  ----- \n",
      " 0   message      21046 non-null  object\n",
      " 1   aid_related  21046 non-null  int64 \n",
      "dtypes: int64(1), object(1)\n",
      "memory usage: 329.0+ KB\n"
     ]
    }
   ],
   "source": [
    "train_data.info()"
   ]
  },
  {
   "cell_type": "markdown",
   "id": "fb32fd21",
   "metadata": {},
   "source": [
    "Terdapat 2 feature,yaitu message yang berisi kumpulan kalimat dan aid_related yang dimana terdapt labelin 1 untuk bencana 2 untuk tidak , type data adalah object dan int6, dan terdapat sebanyak 21046 data."
   ]
  },
  {
   "cell_type": "code",
   "execution_count": 5,
   "id": "9952d3a0",
   "metadata": {
    "scrolled": true
   },
   "outputs": [
    {
     "data": {
      "text/plain": [
       "0    12361\n",
       "1     8685\n",
       "Name: aid_related, dtype: int64"
      ]
     },
     "execution_count": 5,
     "metadata": {},
     "output_type": "execute_result"
    }
   ],
   "source": [
    "train_data.aid_related.value_counts()"
   ]
  },
  {
   "cell_type": "code",
   "execution_count": 6,
   "id": "d64a68c1",
   "metadata": {},
   "outputs": [
    {
     "name": "stderr",
     "output_type": "stream",
     "text": [
      "/Users/khofiyyamuliarahmi/opt/anaconda3/lib/python3.8/site-packages/seaborn/_decorators.py:36: FutureWarning: Pass the following variable as a keyword arg: x. From version 0.12, the only valid positional argument will be `data`, and passing other arguments without an explicit keyword will result in an error or misinterpretation.\n",
      "  warnings.warn(\n"
     ]
    },
    {
     "data": {
      "text/plain": [
       "<AxesSubplot:xlabel='aid_related', ylabel='count'>"
      ]
     },
     "execution_count": 6,
     "metadata": {},
     "output_type": "execute_result"
    },
    {
     "data": {
      "image/png": "[encoded data removed]",
      "text/plain": [
       "<Figure size 720x720 with 1 Axes>"
      ]
     },
     "metadata": {},
     "output_type": "display_data"
    }
   ],
   "source": [
    "plt.figure(figsize=(10,10))\n",
    "sns.countplot(train_data['aid_related'])"
   ]
  },
  {
   "cell_type": "markdown",
   "id": "e3207502",
   "metadata": {},
   "source": [
    "Dalam kasus ini, dari total ulasan sebanyak 21046 data, berdasarkan histogram di atas, hasil pelabelan kelas menunjukkan bahwa jumlah kalimat disaster_respon_message tidak bencana memiliki frekuensi yang lebih tinggi dibandingkan dengan jumlah ucapan bencana seperti di tampilan histogram di atas.\n",
    "\n",
    "\n",
    "Untuk selanjutnya, Data disaster_respon_message merupakan data berupa teks yang memiliki bentuk data tidak struktur, karena masih terdapat banyak noise pada data dan informasi yang terdapat didalamnya akan sulit diekstrak secara langsung. Oleh sebab itu, data harus di seleksi terlebih dahulu agar lebih terstruktur dan memiliki keseragaman, sehingga akan mempermudah proses analisis dan ekstraksi informasi yang terkandung didalamnya.\n",
    "\n",
    "Pada tahap preprocessing, akan dilakukan pembersihan data menggunakan metode text mining. Beberapa tahap yang akan dilakukan diantaranya adalah cleansing remove punctuation,stopwrod, steaming yang akan dijelaskan berikut:"
   ]
  },
  {
   "cell_type": "markdown",
   "id": "910bd4d8",
   "metadata": {},
   "source": [
    "# PreProcessing"
   ]
  },
  {
   "cell_type": "code",
   "execution_count": 7,
   "id": "829f97a6",
   "metadata": {},
   "outputs": [],
   "source": [
    "from sklearn.feature_extraction.text import CountVectorizer, TfidfVectorizer\n",
    "from nltk.tokenize import word_tokenize\n",
    "from nltk.corpus import stopwords\n",
    "from nltk.stem import PorterStemmer"
   ]
  },
  {
   "cell_type": "markdown",
   "id": "71f9bd31",
   "metadata": {},
   "source": [
    "# 1. Remove Punctuation"
   ]
  },
  {
   "cell_type": "markdown",
   "id": "f533fc86",
   "metadata": {},
   "source": [
    "Menghapus tanda baca seperti [!”#$%&’()*+,-./:;<=>?@[\\]^_`{|}~] dapat dilakukan di pyhton seperti dibawah ini :"
   ]
  },
  {
   "cell_type": "code",
   "execution_count": 8,
   "id": "fe1eecd6",
   "metadata": {},
   "outputs": [],
   "source": [
    "def remove_punctuation(text):\n",
    "    '''a function for removing punctuation'''\n",
    "    import string\n",
    "    # replacing the punctuations with no space, \n",
    "    # which in effect deletes the punctuation marks \n",
    "    translator = str.maketrans('', '', string.punctuation)\n",
    "    # return the text stripped of punctuation marks\n",
    "    return text.translate(translator)"
   ]
  },
  {
   "cell_type": "code",
   "execution_count": 9,
   "id": "ae1a5256",
   "metadata": {},
   "outputs": [
    {
     "name": "stderr",
     "output_type": "stream",
     "text": [
      "<ipython-input-9-898152a9819d>:1: SettingWithCopyWarning: \n",
      "A value is trying to be set on a copy of a slice from a DataFrame.\n",
      "Try using .loc[row_indexer,col_indexer] = value instead\n",
      "\n",
      "See the caveats in the documentation: https://pandas.pydata.org/pandas-docs/stable/user_guide/indexing.html#returning-a-view-versus-a-copy\n",
      "  train_data['message'] = train_data['message'].apply(remove_punctuation)\n"
     ]
    },
    {
     "data": {
      "text/html": [
       "<div>\n",
       "<style scoped>\n",
       "    .dataframe tbody tr th:only-of-type {\n",
       "        vertical-align: middle;\n",
       "    }\n",
       "\n",
       "    .dataframe tbody tr th {\n",
       "        vertical-align: top;\n",
       "    }\n",
       "\n",
       "    .dataframe thead th {\n",
       "        text-align: right;\n",
       "    }\n",
       "</style>\n",
       "<table border=\"1\" class=\"dataframe\">\n",
       "  <thead>\n",
       "    <tr style=\"text-align: right;\">\n",
       "      <th></th>\n",
       "      <th>message</th>\n",
       "      <th>aid_related</th>\n",
       "    </tr>\n",
       "  </thead>\n",
       "  <tbody>\n",
       "    <tr>\n",
       "      <th>0</th>\n",
       "      <td>Weather update  a cold front from Cuba that co...</td>\n",
       "      <td>0</td>\n",
       "    </tr>\n",
       "    <tr>\n",
       "      <th>1</th>\n",
       "      <td>Is the Hurricane over or is it not over</td>\n",
       "      <td>1</td>\n",
       "    </tr>\n",
       "    <tr>\n",
       "      <th>2</th>\n",
       "      <td>says west side of Haiti rest of the country to...</td>\n",
       "      <td>0</td>\n",
       "    </tr>\n",
       "    <tr>\n",
       "      <th>3</th>\n",
       "      <td>Information about the National Palace</td>\n",
       "      <td>0</td>\n",
       "    </tr>\n",
       "    <tr>\n",
       "      <th>4</th>\n",
       "      <td>Storm at sacred heart of jesus</td>\n",
       "      <td>0</td>\n",
       "    </tr>\n",
       "    <tr>\n",
       "      <th>5</th>\n",
       "      <td>Please we need tents and water We are in Silo ...</td>\n",
       "      <td>1</td>\n",
       "    </tr>\n",
       "    <tr>\n",
       "      <th>6</th>\n",
       "      <td>I would like to receive the messages thank you</td>\n",
       "      <td>0</td>\n",
       "    </tr>\n",
       "    <tr>\n",
       "      <th>7</th>\n",
       "      <td>Theres nothing to eat and water we starving an...</td>\n",
       "      <td>1</td>\n",
       "    </tr>\n",
       "    <tr>\n",
       "      <th>8</th>\n",
       "      <td>I am in Petionville I need more information re...</td>\n",
       "      <td>0</td>\n",
       "    </tr>\n",
       "    <tr>\n",
       "      <th>9</th>\n",
       "      <td>I am in Thomassin number 32 in the area named ...</td>\n",
       "      <td>1</td>\n",
       "    </tr>\n",
       "  </tbody>\n",
       "</table>\n",
       "</div>"
      ],
      "text/plain": [
       "                                             message  aid_related\n",
       "0  Weather update  a cold front from Cuba that co...            0\n",
       "1            Is the Hurricane over or is it not over            1\n",
       "2  says west side of Haiti rest of the country to...            0\n",
       "3              Information about the National Palace            0\n",
       "4                     Storm at sacred heart of jesus            0\n",
       "5  Please we need tents and water We are in Silo ...            1\n",
       "6     I would like to receive the messages thank you            0\n",
       "7  Theres nothing to eat and water we starving an...            1\n",
       "8  I am in Petionville I need more information re...            0\n",
       "9  I am in Thomassin number 32 in the area named ...            1"
      ]
     },
     "execution_count": 9,
     "metadata": {},
     "output_type": "execute_result"
    }
   ],
   "source": [
    "train_data['message'] = train_data['message'].apply(remove_punctuation)\n",
    "train_data.head(10)"
   ]
  },
  {
   "cell_type": "markdown",
   "id": "4ea406ed",
   "metadata": {},
   "source": [
    "# 2. Stopwords"
   ]
  },
  {
   "cell_type": "markdown",
   "id": "9018fe01",
   "metadata": {},
   "source": [
    "Tahapan stopword adalah proses mengahpus kata-kata yang dianggap tidak penting dan tidak berpengaruh terhadap proses kategorisasi. \n"
   ]
  },
  {
   "cell_type": "code",
   "execution_count": 10,
   "id": "2edfba56",
   "metadata": {},
   "outputs": [],
   "source": [
    "# extracting the stopwords from nltk library\n",
    "sw = stopwords.words('english')\n",
    "# displaying the stopwords\n",
    "np.array(sw);"
   ]
  },
  {
   "cell_type": "code",
   "execution_count": 11,
   "id": "2ced248e",
   "metadata": {},
   "outputs": [],
   "source": [
    "def stopwords(text):\n",
    "    '''a function for removing the stopword'''\n",
    "    # removing the stop words and lowercasing the selected words\n",
    "    text = [word.lower() for word in word_tokenize(text) if word.lower() not in sw]\n",
    "    # joining the list of words with space separator\n",
    "    return \" \".join(text)"
   ]
  },
  {
   "cell_type": "code",
   "execution_count": 12,
   "id": "4d425a0b",
   "metadata": {},
   "outputs": [
    {
     "name": "stderr",
     "output_type": "stream",
     "text": [
      "<ipython-input-12-f1b140c0aa1d>:1: SettingWithCopyWarning: \n",
      "A value is trying to be set on a copy of a slice from a DataFrame.\n",
      "Try using .loc[row_indexer,col_indexer] = value instead\n",
      "\n",
      "See the caveats in the documentation: https://pandas.pydata.org/pandas-docs/stable/user_guide/indexing.html#returning-a-view-versus-a-copy\n",
      "  train_data['message'] = train_data['message'].apply(stopwords)\n"
     ]
    },
    {
     "data": {
      "text/html": [
       "<div>\n",
       "<style scoped>\n",
       "    .dataframe tbody tr th:only-of-type {\n",
       "        vertical-align: middle;\n",
       "    }\n",
       "\n",
       "    .dataframe tbody tr th {\n",
       "        vertical-align: top;\n",
       "    }\n",
       "\n",
       "    .dataframe thead th {\n",
       "        text-align: right;\n",
       "    }\n",
       "</style>\n",
       "<table border=\"1\" class=\"dataframe\">\n",
       "  <thead>\n",
       "    <tr style=\"text-align: right;\">\n",
       "      <th></th>\n",
       "      <th>message</th>\n",
       "      <th>aid_related</th>\n",
       "    </tr>\n",
       "  </thead>\n",
       "  <tbody>\n",
       "    <tr>\n",
       "      <th>0</th>\n",
       "      <td>weather update cold front cuba could pass haiti</td>\n",
       "      <td>0</td>\n",
       "    </tr>\n",
       "    <tr>\n",
       "      <th>1</th>\n",
       "      <td>hurricane</td>\n",
       "      <td>1</td>\n",
       "    </tr>\n",
       "    <tr>\n",
       "      <th>2</th>\n",
       "      <td>says west side haiti rest country today tonight</td>\n",
       "      <td>0</td>\n",
       "    </tr>\n",
       "    <tr>\n",
       "      <th>3</th>\n",
       "      <td>information national palace</td>\n",
       "      <td>0</td>\n",
       "    </tr>\n",
       "    <tr>\n",
       "      <th>4</th>\n",
       "      <td>storm sacred heart jesus</td>\n",
       "      <td>0</td>\n",
       "    </tr>\n",
       "    <tr>\n",
       "      <th>5</th>\n",
       "      <td>please need tents water silo thank</td>\n",
       "      <td>1</td>\n",
       "    </tr>\n",
       "    <tr>\n",
       "      <th>6</th>\n",
       "      <td>would like receive messages thank</td>\n",
       "      <td>0</td>\n",
       "    </tr>\n",
       "    <tr>\n",
       "      <th>7</th>\n",
       "      <td>theres nothing eat water starving thirsty</td>\n",
       "      <td>1</td>\n",
       "    </tr>\n",
       "    <tr>\n",
       "      <th>8</th>\n",
       "      <td>petionville need information regarding 4636</td>\n",
       "      <td>0</td>\n",
       "    </tr>\n",
       "    <tr>\n",
       "      <th>9</th>\n",
       "      <td>thomassin number 32 area named pyron would lik...</td>\n",
       "      <td>1</td>\n",
       "    </tr>\n",
       "  </tbody>\n",
       "</table>\n",
       "</div>"
      ],
      "text/plain": [
       "                                             message  aid_related\n",
       "0    weather update cold front cuba could pass haiti            0\n",
       "1                                          hurricane            1\n",
       "2    says west side haiti rest country today tonight            0\n",
       "3                        information national palace            0\n",
       "4                           storm sacred heart jesus            0\n",
       "5                 please need tents water silo thank            1\n",
       "6                  would like receive messages thank            0\n",
       "7          theres nothing eat water starving thirsty            1\n",
       "8        petionville need information regarding 4636            0\n",
       "9  thomassin number 32 area named pyron would lik...            1"
      ]
     },
     "execution_count": 12,
     "metadata": {},
     "output_type": "execute_result"
    }
   ],
   "source": [
    "train_data['message'] = train_data['message'].apply(stopwords)\n",
    "train_data.head(10)"
   ]
  },
  {
   "cell_type": "markdown",
   "id": "70b7a7aa",
   "metadata": {},
   "source": [
    "# 3. Stemming operations"
   ]
  },
  {
   "cell_type": "markdown",
   "id": "7854ee2b",
   "metadata": {},
   "source": [
    "Proses dimana proses menghilangkan kata-kata yang tidak penting dalam teks namun sering meuncul yang tidak memiliki pengaruh apapun."
   ]
  },
  {
   "cell_type": "code",
   "execution_count": 13,
   "id": "c5d74995",
   "metadata": {},
   "outputs": [],
   "source": [
    "# create an object of stemming function\n",
    "stemmer = PorterStemmer()\n",
    "\n",
    "def stemming(text):    \n",
    "    '''a function which stems each word in the given text'''\n",
    "    text = [stemmer.stem(word) for word in word_tokenize(text)]\n",
    "    return \" \".join(text) "
   ]
  },
  {
   "cell_type": "code",
   "execution_count": 14,
   "id": "6ab03e5b",
   "metadata": {},
   "outputs": [
    {
     "name": "stderr",
     "output_type": "stream",
     "text": [
      "<ipython-input-14-b8e45be93ad0>:1: SettingWithCopyWarning: \n",
      "A value is trying to be set on a copy of a slice from a DataFrame.\n",
      "Try using .loc[row_indexer,col_indexer] = value instead\n",
      "\n",
      "See the caveats in the documentation: https://pandas.pydata.org/pandas-docs/stable/user_guide/indexing.html#returning-a-view-versus-a-copy\n",
      "  train_data['message'] = train_data['message'].apply(stemming)\n"
     ]
    },
    {
     "data": {
      "text/html": [
       "<div>\n",
       "<style scoped>\n",
       "    .dataframe tbody tr th:only-of-type {\n",
       "        vertical-align: middle;\n",
       "    }\n",
       "\n",
       "    .dataframe tbody tr th {\n",
       "        vertical-align: top;\n",
       "    }\n",
       "\n",
       "    .dataframe thead th {\n",
       "        text-align: right;\n",
       "    }\n",
       "</style>\n",
       "<table border=\"1\" class=\"dataframe\">\n",
       "  <thead>\n",
       "    <tr style=\"text-align: right;\">\n",
       "      <th></th>\n",
       "      <th>message</th>\n",
       "      <th>aid_related</th>\n",
       "    </tr>\n",
       "  </thead>\n",
       "  <tbody>\n",
       "    <tr>\n",
       "      <th>0</th>\n",
       "      <td>weather updat cold front cuba could pass haiti</td>\n",
       "      <td>0</td>\n",
       "    </tr>\n",
       "    <tr>\n",
       "      <th>1</th>\n",
       "      <td>hurrican</td>\n",
       "      <td>1</td>\n",
       "    </tr>\n",
       "    <tr>\n",
       "      <th>2</th>\n",
       "      <td>say west side haiti rest countri today tonight</td>\n",
       "      <td>0</td>\n",
       "    </tr>\n",
       "    <tr>\n",
       "      <th>3</th>\n",
       "      <td>inform nation palac</td>\n",
       "      <td>0</td>\n",
       "    </tr>\n",
       "    <tr>\n",
       "      <th>4</th>\n",
       "      <td>storm sacr heart jesu</td>\n",
       "      <td>0</td>\n",
       "    </tr>\n",
       "    <tr>\n",
       "      <th>5</th>\n",
       "      <td>pleas need tent water silo thank</td>\n",
       "      <td>1</td>\n",
       "    </tr>\n",
       "    <tr>\n",
       "      <th>6</th>\n",
       "      <td>would like receiv messag thank</td>\n",
       "      <td>0</td>\n",
       "    </tr>\n",
       "    <tr>\n",
       "      <th>7</th>\n",
       "      <td>there noth eat water starv thirsti</td>\n",
       "      <td>1</td>\n",
       "    </tr>\n",
       "    <tr>\n",
       "      <th>8</th>\n",
       "      <td>petionvil need inform regard 4636</td>\n",
       "      <td>0</td>\n",
       "    </tr>\n",
       "    <tr>\n",
       "      <th>9</th>\n",
       "      <td>thomassin number 32 area name pyron would like...</td>\n",
       "      <td>1</td>\n",
       "    </tr>\n",
       "  </tbody>\n",
       "</table>\n",
       "</div>"
      ],
      "text/plain": [
       "                                             message  aid_related\n",
       "0     weather updat cold front cuba could pass haiti            0\n",
       "1                                           hurrican            1\n",
       "2     say west side haiti rest countri today tonight            0\n",
       "3                                inform nation palac            0\n",
       "4                              storm sacr heart jesu            0\n",
       "5                   pleas need tent water silo thank            1\n",
       "6                     would like receiv messag thank            0\n",
       "7                 there noth eat water starv thirsti            1\n",
       "8                  petionvil need inform regard 4636            0\n",
       "9  thomassin number 32 area name pyron would like...            1"
      ]
     },
     "execution_count": 14,
     "metadata": {},
     "output_type": "execute_result"
    }
   ],
   "source": [
    "train_data['message'] = train_data['message'].apply(stemming)\n",
    "train_data.head(10)"
   ]
  },
  {
   "cell_type": "markdown",
   "id": "d357d413",
   "metadata": {},
   "source": [
    "# TF-IDF"
   ]
  },
  {
   "cell_type": "markdown",
   "id": "c63d5bc7",
   "metadata": {},
   "source": [
    "Term Frequency Inverse Document Frequency (TF-IDF) merupakan sebuah metode pembobotan yang dilakukan untuk ekstraksi data teks. Skor TF-IDF mewakili kepentingan relatif suatu istilah dalam dokumen. Metode TF-IDF dilakukan dengan menghitung bobot dengan cara integrasi antara term frequency (tf) dan inverse document frequency (idf)."
   ]
  },
  {
   "cell_type": "code",
   "execution_count": 15,
   "id": "2f87f2f8",
   "metadata": {},
   "outputs": [
    {
     "data": {
      "text/plain": [
       "TfidfVectorizer(binary=True, stop_words='english')"
      ]
     },
     "execution_count": 15,
     "metadata": {},
     "output_type": "execute_result"
    }
   ],
   "source": [
    "vectorizer = TfidfVectorizer(analyzer='word', binary=True, stop_words='english')\n",
    "vectorizer.fit(train_data['message'])"
   ]
  },
  {
   "cell_type": "code",
   "execution_count": 16,
   "id": "381d6684",
   "metadata": {},
   "outputs": [
    {
     "data": {
      "text/plain": [
       "((21046, 26926), (21046,))"
      ]
     },
     "execution_count": 16,
     "metadata": {},
     "output_type": "execute_result"
    }
   ],
   "source": [
    "X = vectorizer.transform(train_data['message']).todense()\n",
    "y = train['aid_related'].values\n",
    "X.shape, y.shape"
   ]
  },
  {
   "cell_type": "markdown",
   "id": "f304c81e",
   "metadata": {},
   "source": [
    "# Modeling"
   ]
  },
  {
   "cell_type": "markdown",
   "id": "ea4e091d",
   "metadata": {},
   "source": [
    "Analisis yang dilakukan pada penelitian ini pada prinsipnya adalah melakukan perbandingan beberapa metode machine learning untuk pengklasifikasian teks dengan fitur yang berbeda dengan memasukan Data Disaster Respon Message Train."
   ]
  },
  {
   "cell_type": "code",
   "execution_count": 17,
   "id": "61c3d978",
   "metadata": {},
   "outputs": [],
   "source": [
    "from sklearn.linear_model import LogisticRegression\n",
    "from sklearn.ensemble import RandomForestClassifier, RandomForestRegressor\n",
    "from sklearn.svm import LinearSVC\n",
    "from sklearn.metrics import confusion_matrix, classification_report"
   ]
  },
  {
   "cell_type": "markdown",
   "id": "6162aeab",
   "metadata": {},
   "source": [
    "1. logistic Regression\n",
    "\n",
    "Regresi logistik mengukur hubungan antara variabel dependen kategorik dan satu atau lebih variabel independen dengan memperkirakan probabilitas menggunakan fungsi logistik/sigmoid. Saya menerapkan model Logistic Regression dengan menggunakan implementasi sklearn dari program jupyter"
   ]
  },
  {
   "cell_type": "code",
   "execution_count": 18,
   "id": "90327128",
   "metadata": {},
   "outputs": [
    {
     "name": "stderr",
     "output_type": "stream",
     "text": [
      "/Users/khofiyyamuliarahmi/opt/anaconda3/lib/python3.8/site-packages/sklearn/utils/validation.py:593: FutureWarning: np.matrix usage is deprecated in 1.0 and will raise a TypeError in 1.2. Please convert to a numpy array with np.asarray. For more information see: https://numpy.org/doc/stable/reference/generated/numpy.matrix.html\n",
      "  warnings.warn(\n"
     ]
    },
    {
     "data": {
      "text/plain": [
       "LogisticRegression(random_state=111)"
      ]
     },
     "execution_count": 18,
     "metadata": {},
     "output_type": "execute_result"
    }
   ],
   "source": [
    "model1 = LogisticRegression(C=1.0, random_state=111)\n",
    "model1.fit(X,y)"
   ]
  },
  {
   "cell_type": "markdown",
   "id": "a4f7b1af",
   "metadata": {},
   "source": [
    "2. SVM\n",
    "\n",
    "Support Vector Machine (SVM) adalah algoritma pembelajaran mesin yang diawasi yang dapat digunakan untuk tantangan klasifikasi atau regresi. Model mengekstrak hyper-plane / line terbaik yang memisahkan dua kelas. Saya menentukan pembobot parameter pada SVM yaitu cost (c=1.0), dengan fungsi kernel “linear” , dan gamma otomatis atau default."
   ]
  },
  {
   "cell_type": "code",
   "execution_count": 19,
   "id": "6004f360",
   "metadata": {},
   "outputs": [
    {
     "name": "stderr",
     "output_type": "stream",
     "text": [
      "/Users/khofiyyamuliarahmi/opt/anaconda3/lib/python3.8/site-packages/sklearn/utils/validation.py:593: FutureWarning: np.matrix usage is deprecated in 1.0 and will raise a TypeError in 1.2. Please convert to a numpy array with np.asarray. For more information see: https://numpy.org/doc/stable/reference/generated/numpy.matrix.html\n",
      "  warnings.warn(\n"
     ]
    },
    {
     "data": {
      "text/plain": [
       "LinearSVC()"
      ]
     },
     "execution_count": 19,
     "metadata": {},
     "output_type": "execute_result"
    }
   ],
   "source": [
    "model2= LinearSVC()\n",
    "model2.fit(X,y)"
   ]
  },
  {
   "cell_type": "markdown",
   "id": "b5be9a83",
   "metadata": {},
   "source": [
    "# Evaluate the model\n",
    "\n",
    "Tahap evaluasi dilakukan untuk mengukur performa dari klasifikasi. Performa model dilihat dengan menggunakan confusion matrix dengan Data Disaster Respon Message Validation"
   ]
  },
  {
   "cell_type": "code",
   "execution_count": 20,
   "id": "d8480974",
   "metadata": {},
   "outputs": [
    {
     "data": {
      "text/plain": [
       "0       0\n",
       "1       1\n",
       "2       0\n",
       "3       1\n",
       "4       0\n",
       "       ..\n",
       "2568    1\n",
       "2569    0\n",
       "2570    1\n",
       "2571    0\n",
       "2572    0\n",
       "Name: aid_related, Length: 2573, dtype: int64"
      ]
     },
     "execution_count": 20,
     "metadata": {},
     "output_type": "execute_result"
    }
   ],
   "source": [
    "val_data['aid_related']"
   ]
  },
  {
   "cell_type": "code",
   "execution_count": 21,
   "id": "99a21cb2",
   "metadata": {},
   "outputs": [
    {
     "name": "stderr",
     "output_type": "stream",
     "text": [
      "/Users/khofiyyamuliarahmi/opt/anaconda3/lib/python3.8/site-packages/sklearn/utils/validation.py:593: FutureWarning: np.matrix usage is deprecated in 1.0 and will raise a TypeError in 1.2. Please convert to a numpy array with np.asarray. For more information see: https://numpy.org/doc/stable/reference/generated/numpy.matrix.html\n",
      "  warnings.warn(\n"
     ]
    },
    {
     "name": "stdout",
     "output_type": "stream",
     "text": [
      "              precision    recall  f1-score   support\n",
      "\n",
      "           0       0.70      0.90      0.78      1525\n",
      "           1       0.74      0.43      0.54      1048\n",
      "\n",
      "    accuracy                           0.71      2573\n",
      "   macro avg       0.72      0.66      0.66      2573\n",
      "weighted avg       0.72      0.71      0.69      2573\n",
      "\n",
      "[[1372  153]\n",
      " [ 601  447]]\n"
     ]
    }
   ],
   "source": [
    "X_Val = vectorizer.transform(val_data['message']).todense()\n",
    "y_pred = model1.predict(X_Val)\n",
    "\n",
    "print(classification_report(val_data['aid_related'], y_pred))\n",
    "print(confusion_matrix(val_data['aid_related'], y_pred))\n"
   ]
  },
  {
   "cell_type": "code",
   "execution_count": 22,
   "id": "a3dde392",
   "metadata": {},
   "outputs": [
    {
     "name": "stdout",
     "output_type": "stream",
     "text": [
      "              precision    recall  f1-score   support\n",
      "\n",
      "           0       0.70      0.86      0.77      1525\n",
      "           1       0.70      0.46      0.55      1048\n",
      "\n",
      "    accuracy                           0.70      2573\n",
      "   macro avg       0.70      0.66      0.66      2573\n",
      "weighted avg       0.70      0.70      0.68      2573\n",
      "\n",
      "[[1318  207]\n",
      " [ 571  477]]\n"
     ]
    },
    {
     "name": "stderr",
     "output_type": "stream",
     "text": [
      "/Users/khofiyyamuliarahmi/opt/anaconda3/lib/python3.8/site-packages/sklearn/utils/validation.py:593: FutureWarning: np.matrix usage is deprecated in 1.0 and will raise a TypeError in 1.2. Please convert to a numpy array with np.asarray. For more information see: https://numpy.org/doc/stable/reference/generated/numpy.matrix.html\n",
      "  warnings.warn(\n"
     ]
    }
   ],
   "source": [
    "X_Val = vectorizer.transform(val_data['message']).todense()\n",
    "y_pred = model2.predict(X_Val)\n",
    "\n",
    "print(classification_report(val_data['aid_related'], y_pred))\n",
    "print(confusion_matrix(val_data['aid_related'], y_pred))"
   ]
  },
  {
   "cell_type": "markdown",
   "id": "a5b5c7a8",
   "metadata": {},
   "source": [
    "# Prediction and Submition\n",
    "\n",
    "Disini, adalalah proses melihat hasil prediksi dengan di bandingkan Data Disaster Respon Message Testing"
   ]
  },
  {
   "cell_type": "code",
   "execution_count": 26,
   "id": "43c79e65",
   "metadata": {},
   "outputs": [],
   "source": [
    "X_test = test_data['message']\n",
    "test_X = vectorizer.transform(X_test).todense()"
   ]
  },
  {
   "cell_type": "markdown",
   "id": "29204fd0",
   "metadata": {},
   "source": [
    "Model 1 (Logistic Regression)"
   ]
  },
  {
   "cell_type": "code",
   "execution_count": 27,
   "id": "9496a46a",
   "metadata": {},
   "outputs": [
    {
     "name": "stderr",
     "output_type": "stream",
     "text": [
      "/Users/khofiyyamuliarahmi/opt/anaconda3/lib/python3.8/site-packages/sklearn/utils/validation.py:593: FutureWarning: np.matrix usage is deprecated in 1.0 and will raise a TypeError in 1.2. Please convert to a numpy array with np.asarray. For more information see: https://numpy.org/doc/stable/reference/generated/numpy.matrix.html\n",
      "  warnings.warn(\n"
     ]
    }
   ],
   "source": [
    "lr_pred = model1.predict(test_X)"
   ]
  },
  {
   "cell_type": "code",
   "execution_count": 29,
   "id": "3c41b2de",
   "metadata": {},
   "outputs": [
    {
     "name": "stderr",
     "output_type": "stream",
     "text": [
      "<ipython-input-29-d2b99948b1c9>:1: SettingWithCopyWarning: \n",
      "A value is trying to be set on a copy of a slice from a DataFrame.\n",
      "Try using .loc[row_indexer,col_indexer] = value instead\n",
      "\n",
      "See the caveats in the documentation: https://pandas.pydata.org/pandas-docs/stable/user_guide/indexing.html#returning-a-view-versus-a-copy\n",
      "  test_data['Hasil Prediksi1'] = lr_pred\n"
     ]
    },
    {
     "data": {
      "text/html": [
       "<div>\n",
       "<style scoped>\n",
       "    .dataframe tbody tr th:only-of-type {\n",
       "        vertical-align: middle;\n",
       "    }\n",
       "\n",
       "    .dataframe tbody tr th {\n",
       "        vertical-align: top;\n",
       "    }\n",
       "\n",
       "    .dataframe thead th {\n",
       "        text-align: right;\n",
       "    }\n",
       "</style>\n",
       "<table border=\"1\" class=\"dataframe\">\n",
       "  <thead>\n",
       "    <tr style=\"text-align: right;\">\n",
       "      <th></th>\n",
       "      <th>message</th>\n",
       "      <th>aid_related</th>\n",
       "      <th>Hasil Prediksi1</th>\n",
       "    </tr>\n",
       "  </thead>\n",
       "  <tbody>\n",
       "    <tr>\n",
       "      <th>0</th>\n",
       "      <td>UN reports Leogane 80-90 destroyed. Only Hospi...</td>\n",
       "      <td>1</td>\n",
       "      <td>0</td>\n",
       "    </tr>\n",
       "    <tr>\n",
       "      <th>1</th>\n",
       "      <td>We are at Gressier we needs assistance right a...</td>\n",
       "      <td>1</td>\n",
       "      <td>0</td>\n",
       "    </tr>\n",
       "    <tr>\n",
       "      <th>2</th>\n",
       "      <td>Delmas 33 in Silo, need water.</td>\n",
       "      <td>1</td>\n",
       "      <td>1</td>\n",
       "    </tr>\n",
       "    <tr>\n",
       "      <th>3</th>\n",
       "      <td>SOS SOS, please provide police officers on the...</td>\n",
       "      <td>1</td>\n",
       "      <td>0</td>\n",
       "    </tr>\n",
       "    <tr>\n",
       "      <th>4</th>\n",
       "      <td>I am a driver, a mechanic ,. I want to help</td>\n",
       "      <td>0</td>\n",
       "      <td>0</td>\n",
       "    </tr>\n",
       "  </tbody>\n",
       "</table>\n",
       "</div>"
      ],
      "text/plain": [
       "                                             message  aid_related  \\\n",
       "0  UN reports Leogane 80-90 destroyed. Only Hospi...            1   \n",
       "1  We are at Gressier we needs assistance right a...            1   \n",
       "2                     Delmas 33 in Silo, need water.            1   \n",
       "3  SOS SOS, please provide police officers on the...            1   \n",
       "4        I am a driver, a mechanic ,. I want to help            0   \n",
       "\n",
       "   Hasil Prediksi1  \n",
       "0                0  \n",
       "1                0  \n",
       "2                1  \n",
       "3                0  \n",
       "4                0  "
      ]
     },
     "execution_count": 29,
     "metadata": {},
     "output_type": "execute_result"
    }
   ],
   "source": [
    "test_data['Hasil Prediksi1'] = lr_pred\n",
    "test_data.head()"
   ]
  },
  {
   "cell_type": "markdown",
   "id": "1c577232",
   "metadata": {},
   "source": [
    "Model 2 (SVM)"
   ]
  },
  {
   "cell_type": "code",
   "execution_count": 30,
   "id": "9de00c5d",
   "metadata": {},
   "outputs": [
    {
     "name": "stderr",
     "output_type": "stream",
     "text": [
      "/Users/khofiyyamuliarahmi/opt/anaconda3/lib/python3.8/site-packages/sklearn/utils/validation.py:593: FutureWarning: np.matrix usage is deprecated in 1.0 and will raise a TypeError in 1.2. Please convert to a numpy array with np.asarray. For more information see: https://numpy.org/doc/stable/reference/generated/numpy.matrix.html\n",
      "  warnings.warn(\n"
     ]
    }
   ],
   "source": [
    "lr_pred = model2.predict(test_X)"
   ]
  },
  {
   "cell_type": "code",
   "execution_count": 31,
   "id": "c75f7e78",
   "metadata": {},
   "outputs": [
    {
     "name": "stderr",
     "output_type": "stream",
     "text": [
      "<ipython-input-31-d070d498d176>:1: SettingWithCopyWarning: \n",
      "A value is trying to be set on a copy of a slice from a DataFrame.\n",
      "Try using .loc[row_indexer,col_indexer] = value instead\n",
      "\n",
      "See the caveats in the documentation: https://pandas.pydata.org/pandas-docs/stable/user_guide/indexing.html#returning-a-view-versus-a-copy\n",
      "  test_data['Hasil Prediksi2'] = lr_pred\n"
     ]
    },
    {
     "data": {
      "text/html": [
       "<div>\n",
       "<style scoped>\n",
       "    .dataframe tbody tr th:only-of-type {\n",
       "        vertical-align: middle;\n",
       "    }\n",
       "\n",
       "    .dataframe tbody tr th {\n",
       "        vertical-align: top;\n",
       "    }\n",
       "\n",
       "    .dataframe thead th {\n",
       "        text-align: right;\n",
       "    }\n",
       "</style>\n",
       "<table border=\"1\" class=\"dataframe\">\n",
       "  <thead>\n",
       "    <tr style=\"text-align: right;\">\n",
       "      <th></th>\n",
       "      <th>message</th>\n",
       "      <th>aid_related</th>\n",
       "      <th>Hasil Prediksi1</th>\n",
       "      <th>Hasil Prediksi2</th>\n",
       "    </tr>\n",
       "  </thead>\n",
       "  <tbody>\n",
       "    <tr>\n",
       "      <th>0</th>\n",
       "      <td>UN reports Leogane 80-90 destroyed. Only Hospi...</td>\n",
       "      <td>1</td>\n",
       "      <td>0</td>\n",
       "      <td>1</td>\n",
       "    </tr>\n",
       "    <tr>\n",
       "      <th>1</th>\n",
       "      <td>We are at Gressier we needs assistance right a...</td>\n",
       "      <td>1</td>\n",
       "      <td>0</td>\n",
       "      <td>0</td>\n",
       "    </tr>\n",
       "    <tr>\n",
       "      <th>2</th>\n",
       "      <td>Delmas 33 in Silo, need water.</td>\n",
       "      <td>1</td>\n",
       "      <td>1</td>\n",
       "      <td>1</td>\n",
       "    </tr>\n",
       "    <tr>\n",
       "      <th>3</th>\n",
       "      <td>SOS SOS, please provide police officers on the...</td>\n",
       "      <td>1</td>\n",
       "      <td>0</td>\n",
       "      <td>0</td>\n",
       "    </tr>\n",
       "    <tr>\n",
       "      <th>4</th>\n",
       "      <td>I am a driver, a mechanic ,. I want to help</td>\n",
       "      <td>0</td>\n",
       "      <td>0</td>\n",
       "      <td>0</td>\n",
       "    </tr>\n",
       "  </tbody>\n",
       "</table>\n",
       "</div>"
      ],
      "text/plain": [
       "                                             message  aid_related  \\\n",
       "0  UN reports Leogane 80-90 destroyed. Only Hospi...            1   \n",
       "1  We are at Gressier we needs assistance right a...            1   \n",
       "2                     Delmas 33 in Silo, need water.            1   \n",
       "3  SOS SOS, please provide police officers on the...            1   \n",
       "4        I am a driver, a mechanic ,. I want to help            0   \n",
       "\n",
       "   Hasil Prediksi1  Hasil Prediksi2  \n",
       "0                0                1  \n",
       "1                0                0  \n",
       "2                1                1  \n",
       "3                0                0  \n",
       "4                0                0  "
      ]
     },
     "execution_count": 31,
     "metadata": {},
     "output_type": "execute_result"
    }
   ],
   "source": [
    "test_data['Hasil Prediksi2'] = lr_pred\n",
    "test_data.head()"
   ]
  },
  {
   "cell_type": "markdown",
   "id": "d5e80773",
   "metadata": {},
   "source": [
    "Dari hasil di atas, kita ambil salah satu contoh data teratas yaitu Data nomor 0 bahwa :\n",
    "\n",
    "1. Hasil Prediksi 1 dengan menggunkan Logistic Regression yang dimana data actual mendapat labeling 1 yang artinya bencana tetapi didapatkan bahwa hasil prediksi yaitu 0 yang artinya tidak.\n",
    "\n",
    "2. Hasil Prediksi 2 dengan menggunkan SVM yang dimana data actual mendapat labeling 1 yang artinya bencana untuk hasil prediksi benar bencana."
   ]
  },
  {
   "cell_type": "markdown",
   "id": "996ea22a",
   "metadata": {},
   "source": [
    "# Kesimpulan"
   ]
  },
  {
   "cell_type": "markdown",
   "id": "000884b2",
   "metadata": {},
   "source": [
    "Sebelumnya telah ditunjukan bahwa metode Logistic Regression merupakan metode klasifikasi dengan nilai akurasi tertinggi sebesar 71% dalam mengkalsfikasikan Disater respon message   dengan kategori bencana dan tidak."
   ]
  },
  {
   "cell_type": "markdown",
   "id": "ee4bf7b1",
   "metadata": {},
   "source": [
    "Pada output tersebut menerangkan hasil ukuran evaluasi model terbaik berdasarkan perbandingan model yang digunakan. Nilai akurasi dari hasil klasifikasi pada data uji didapatkan sebesar 71%, artinya ketepatan model dalam memprediksi baik kelas bencana maupun tidak sebesar 71% yang dapat diinterpretasikan bahwa model klasifikasi dengan metode Logistic Regression dengan menggunakan merupakan model klasifikan Disaster respon message merupakan model klasifikasi yang baik untuk digunakan mengklasifikasikan disaster respon message."
   ]
  },
  {
   "cell_type": "markdown",
   "id": "67bc9d6c",
   "metadata": {},
   "source": [
    "# Thankyou"
   ]
  }
 ],
 "metadata": {
  "kernelspec": {
   "display_name": "Python 3",
   "language": "python",
   "name": "python3"
  },
  "language_info": {
   "codemirror_mode": {
    "name": "ipython",
    "version": 3
   },
   "file_extension": ".py",
   "mimetype": "text/x-python",
   "name": "python",
   "nbconvert_exporter": "python",
   "pygments_lexer": "ipython3",
   "version": "3.8.8"
  }
 },
 "nbformat": 4,
 "nbformat_minor": 5
}
